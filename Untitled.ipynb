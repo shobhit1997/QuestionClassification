{
 "cells": [
  {
   "cell_type": "code",
   "execution_count": 19,
   "metadata": {},
   "outputs": [
    {
     "name": "stdout",
     "output_type": "stream",
     "text": [
      "[4 5 1 0 3 2]\n",
      "[[14  2  1  3  2  1]\n",
      " [ 0  5  6  0  4  0]\n",
      " [ 0  4 24  0  0  2]\n",
      " [ 0  1  2 19  1  1]\n",
      " [ 0  2  0  0 23  1]\n",
      " [ 1  0  1  0  5 16]]\n",
      "              precision    recall  f1-score   support\n",
      "\n",
      "           0       0.93      0.61      0.74        23\n",
      "           1       0.36      0.33      0.34        15\n",
      "           2       0.71      0.80      0.75        30\n",
      "           3       0.86      0.79      0.83        24\n",
      "           4       0.66      0.88      0.75        26\n",
      "           5       0.76      0.70      0.73        23\n",
      "\n",
      "    accuracy                           0.72       141\n",
      "   macro avg       0.71      0.69      0.69       141\n",
      "weighted avg       0.73      0.72      0.71       141\n",
      "\n"
     ]
    }
   ],
   "source": [
    "import pandas as pd\n",
    "from sklearn.preprocessing import OneHotEncoder\n",
    "from sklearn.preprocessing import LabelEncoder\n",
    "import numpy as np\n",
    "from sklearn.linear_model import SGDClassifier\n",
    "from sklearn.svm import LinearSVC\n",
    "from sklearn.pipeline import Pipeline\n",
    "from sklearn.feature_extraction.text import TfidfVectorizer, TfidfTransformer, CountVectorizer\n",
    "df = pd.read_csv('train.csv',names=['question', 'type'], header=None).sample(frac=1).reset_index(drop=True)\n",
    "df.head()\n",
    "label_encoder = LabelEncoder()\n",
    "integer_encoded = label_encoder.fit_transform(df['type'])\n",
    "df['int_type'] = integer_encoded\n",
    "df_test = pd.read_csv('test.csv', names=['question', 'type'], header=None)\n",
    "df_test.head()\n",
    "int_test = label_encoder.fit_transform(df_test['type'])\n",
    "print(label_encoder.fit_transform([\"Remembering\",\"Understanding\",\"Applying\",\"Analyzing\",\"Evaluation\",\"Creation\"]))\n",
    "df_test['int_type'] = int_test\n",
    "action_verbs = pd.read_csv('action_verbs.csv',names=['question', 'type'], header=None).sample(frac=1).reset_index(drop=True)\n",
    "action_verbs.head()\n",
    "integer_encoded_action_verbs = label_encoder.fit_transform(action_verbs['type'])\n",
    "action_verbs['int_type'] = integer_encoded_action_verbs\n",
    "text_clf_svm = Pipeline([\n",
    "                         ('tfidf', TfidfVectorizer()),\n",
    "                         ('clf-svm', LinearSVC(C=.4))\n",
    "                        ])\n",
    "text_clf_svm = text_clf_svm.fit(action_verbs.question, action_verbs.int_type)\n",
    "text_clf_svm = text_clf_svm.fit(df.question, df.int_type)\n",
    "predicted_svm = text_clf_svm.predict(df_test.question)\n",
    "np.mean(predicted_svm == df_test.int_type)\n",
    "from sklearn.metrics import confusion_matrix, classification_report\n",
    "print(confusion_matrix(df_test.int_type, predicted_svm))\n",
    "print(classification_report(df_test.int_type, predicted_svm))"
   ]
  },
  {
   "cell_type": "code",
   "execution_count": 18,
   "metadata": {},
   "outputs": [
    {
     "name": "stdout",
     "output_type": "stream",
     "text": [
      "Model dumped!\n"
     ]
    }
   ],
   "source": [
    "from sklearn.externals import joblib\n",
    "joblib.dump(text_clf_svm, 'model.pkl')\n",
    "print(\"Model dumped!\")\n",
    "text_clf_svm = joblib.load('model.pkl')"
   ]
  },
  {
   "cell_type": "code",
   "execution_count": null,
   "metadata": {},
   "outputs": [],
   "source": []
  }
 ],
 "metadata": {
  "kernelspec": {
   "display_name": "Python 3",
   "language": "python",
   "name": "python3"
  },
  "language_info": {
   "codemirror_mode": {
    "name": "ipython",
    "version": 3
   },
   "file_extension": ".py",
   "mimetype": "text/x-python",
   "name": "python",
   "nbconvert_exporter": "python",
   "pygments_lexer": "ipython3",
   "version": "3.7.6"
  }
 },
 "nbformat": 4,
 "nbformat_minor": 4
}
